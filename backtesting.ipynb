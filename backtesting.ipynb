{
 "cells": [
  {
   "cell_type": "code",
   "execution_count": 8,
   "id": "944550ac-18d2-420f-bb73-7a375c4ff8e8",
   "metadata": {
    "scrolled": true
   },
   "outputs": [],
   "source": [
    "import pandas as pd\n",
    "import yfinance as yf"
   ]
  },
  {
   "cell_type": "code",
   "execution_count": null,
   "id": "6b816238-aa69-4eb5-b541-e20a4caca974",
   "metadata": {
    "scrolled": true
   },
   "outputs": [],
   "source": [
    "eth = yf.Ticker('ETH-USD')\n",
    "eth_data = eth.history('10y')"
   ]
  },
  {
   "cell_type": "code",
   "execution_count": 17,
   "id": "f309b0ce-2257-4179-9643-5be84f90fe0b",
   "metadata": {},
   "outputs": [
    {
     "data": {
      "text/plain": [
       "393"
      ]
     },
     "execution_count": 17,
     "metadata": {},
     "output_type": "execute_result"
    }
   ],
   "source": [
    "int(10_000 / (2_290 / 90))"
   ]
  },
  {
   "cell_type": "code",
   "execution_count": 22,
   "id": "68a3021c-67c4-41ba-a358-f22c3af4bc16",
   "metadata": {},
   "outputs": [],
   "source": [
    "buy_interval = 90\n",
    "price = eth_data['Close']\n",
    "eth_data['buy_in'] = int(10_000 / (price.count() / buy_interval))"
   ]
  },
  {
   "cell_type": "code",
   "execution_count": 52,
   "id": "d99a67b8-aa28-47f2-aa62-945024a48edc",
   "metadata": {
    "scrolled": true
   },
   "outputs": [
    {
     "data": {
      "text/html": [
       "<div>\n",
       "<style scoped>\n",
       "    .dataframe tbody tr th:only-of-type {\n",
       "        vertical-align: middle;\n",
       "    }\n",
       "\n",
       "    .dataframe tbody tr th {\n",
       "        vertical-align: top;\n",
       "    }\n",
       "\n",
       "    .dataframe thead th {\n",
       "        text-align: right;\n",
       "    }\n",
       "</style>\n",
       "<table border=\"1\" class=\"dataframe\">\n",
       "  <thead>\n",
       "    <tr style=\"text-align: right;\">\n",
       "      <th></th>\n",
       "      <th>Close</th>\n",
       "      <th>buy_in</th>\n",
       "      <th>eth_bought</th>\n",
       "    </tr>\n",
       "    <tr>\n",
       "      <th>Date</th>\n",
       "      <th></th>\n",
       "      <th></th>\n",
       "      <th></th>\n",
       "    </tr>\n",
       "  </thead>\n",
       "  <tbody>\n",
       "    <tr>\n",
       "      <th>2017-11-09 00:00:00+00:00</th>\n",
       "      <td>320.884003</td>\n",
       "      <td>393</td>\n",
       "      <td>1.224742</td>\n",
       "    </tr>\n",
       "    <tr>\n",
       "      <th>2018-02-07 00:00:00+00:00</th>\n",
       "      <td>757.067993</td>\n",
       "      <td>393</td>\n",
       "      <td>0.519108</td>\n",
       "    </tr>\n",
       "    <tr>\n",
       "      <th>2018-05-08 00:00:00+00:00</th>\n",
       "      <td>752.856995</td>\n",
       "      <td>393</td>\n",
       "      <td>0.522011</td>\n",
       "    </tr>\n",
       "    <tr>\n",
       "      <th>2018-08-06 00:00:00+00:00</th>\n",
       "      <td>406.657990</td>\n",
       "      <td>393</td>\n",
       "      <td>0.966414</td>\n",
       "    </tr>\n",
       "    <tr>\n",
       "      <th>2018-11-04 00:00:00+00:00</th>\n",
       "      <td>207.485992</td>\n",
       "      <td>393</td>\n",
       "      <td>1.894104</td>\n",
       "    </tr>\n",
       "    <tr>\n",
       "      <th>2019-02-02 00:00:00+00:00</th>\n",
       "      <td>110.430260</td>\n",
       "      <td>393</td>\n",
       "      <td>3.558807</td>\n",
       "    </tr>\n",
       "    <tr>\n",
       "      <th>2019-05-03 00:00:00+00:00</th>\n",
       "      <td>167.952408</td>\n",
       "      <td>393</td>\n",
       "      <td>2.339949</td>\n",
       "    </tr>\n",
       "    <tr>\n",
       "      <th>2019-08-01 00:00:00+00:00</th>\n",
       "      <td>217.808441</td>\n",
       "      <td>393</td>\n",
       "      <td>1.804338</td>\n",
       "    </tr>\n",
       "    <tr>\n",
       "      <th>2019-10-30 00:00:00+00:00</th>\n",
       "      <td>184.692169</td>\n",
       "      <td>393</td>\n",
       "      <td>2.127865</td>\n",
       "    </tr>\n",
       "    <tr>\n",
       "      <th>2020-01-28 00:00:00+00:00</th>\n",
       "      <td>176.370316</td>\n",
       "      <td>393</td>\n",
       "      <td>2.228266</td>\n",
       "    </tr>\n",
       "    <tr>\n",
       "      <th>2020-04-27 00:00:00+00:00</th>\n",
       "      <td>197.224716</td>\n",
       "      <td>393</td>\n",
       "      <td>1.992651</td>\n",
       "    </tr>\n",
       "    <tr>\n",
       "      <th>2020-07-26 00:00:00+00:00</th>\n",
       "      <td>309.643616</td>\n",
       "      <td>393</td>\n",
       "      <td>1.269201</td>\n",
       "    </tr>\n",
       "    <tr>\n",
       "      <th>2020-10-24 00:00:00+00:00</th>\n",
       "      <td>412.457611</td>\n",
       "      <td>393</td>\n",
       "      <td>0.952825</td>\n",
       "    </tr>\n",
       "    <tr>\n",
       "      <th>2021-01-22 00:00:00+00:00</th>\n",
       "      <td>1236.512207</td>\n",
       "      <td>393</td>\n",
       "      <td>0.317829</td>\n",
       "    </tr>\n",
       "    <tr>\n",
       "      <th>2021-04-22 00:00:00+00:00</th>\n",
       "      <td>2403.535156</td>\n",
       "      <td>393</td>\n",
       "      <td>0.163509</td>\n",
       "    </tr>\n",
       "    <tr>\n",
       "      <th>2021-07-21 00:00:00+00:00</th>\n",
       "      <td>1990.970825</td>\n",
       "      <td>393</td>\n",
       "      <td>0.197391</td>\n",
       "    </tr>\n",
       "    <tr>\n",
       "      <th>2021-10-19 00:00:00+00:00</th>\n",
       "      <td>3877.650879</td>\n",
       "      <td>393</td>\n",
       "      <td>0.101350</td>\n",
       "    </tr>\n",
       "    <tr>\n",
       "      <th>2022-01-17 00:00:00+00:00</th>\n",
       "      <td>3212.304932</td>\n",
       "      <td>393</td>\n",
       "      <td>0.122342</td>\n",
       "    </tr>\n",
       "    <tr>\n",
       "      <th>2022-04-17 00:00:00+00:00</th>\n",
       "      <td>2993.403320</td>\n",
       "      <td>393</td>\n",
       "      <td>0.131289</td>\n",
       "    </tr>\n",
       "    <tr>\n",
       "      <th>2022-07-16 00:00:00+00:00</th>\n",
       "      <td>1352.626465</td>\n",
       "      <td>393</td>\n",
       "      <td>0.290546</td>\n",
       "    </tr>\n",
       "    <tr>\n",
       "      <th>2022-10-14 00:00:00+00:00</th>\n",
       "      <td>1297.422119</td>\n",
       "      <td>393</td>\n",
       "      <td>0.302908</td>\n",
       "    </tr>\n",
       "    <tr>\n",
       "      <th>2023-01-12 00:00:00+00:00</th>\n",
       "      <td>1417.938477</td>\n",
       "      <td>393</td>\n",
       "      <td>0.277163</td>\n",
       "    </tr>\n",
       "    <tr>\n",
       "      <th>2023-04-12 00:00:00+00:00</th>\n",
       "      <td>1920.682129</td>\n",
       "      <td>393</td>\n",
       "      <td>0.204615</td>\n",
       "    </tr>\n",
       "    <tr>\n",
       "      <th>2023-07-11 00:00:00+00:00</th>\n",
       "      <td>1878.336060</td>\n",
       "      <td>393</td>\n",
       "      <td>0.209228</td>\n",
       "    </tr>\n",
       "    <tr>\n",
       "      <th>2023-10-09 00:00:00+00:00</th>\n",
       "      <td>1579.806641</td>\n",
       "      <td>393</td>\n",
       "      <td>0.248765</td>\n",
       "    </tr>\n",
       "    <tr>\n",
       "      <th>2024-01-07 00:00:00+00:00</th>\n",
       "      <td>2222.865967</td>\n",
       "      <td>393</td>\n",
       "      <td>0.176799</td>\n",
       "    </tr>\n",
       "  </tbody>\n",
       "</table>\n",
       "</div>"
      ],
      "text/plain": [
       "                                 Close  buy_in  eth_bought\n",
       "Date                                                      \n",
       "2017-11-09 00:00:00+00:00   320.884003     393    1.224742\n",
       "2018-02-07 00:00:00+00:00   757.067993     393    0.519108\n",
       "2018-05-08 00:00:00+00:00   752.856995     393    0.522011\n",
       "2018-08-06 00:00:00+00:00   406.657990     393    0.966414\n",
       "2018-11-04 00:00:00+00:00   207.485992     393    1.894104\n",
       "2019-02-02 00:00:00+00:00   110.430260     393    3.558807\n",
       "2019-05-03 00:00:00+00:00   167.952408     393    2.339949\n",
       "2019-08-01 00:00:00+00:00   217.808441     393    1.804338\n",
       "2019-10-30 00:00:00+00:00   184.692169     393    2.127865\n",
       "2020-01-28 00:00:00+00:00   176.370316     393    2.228266\n",
       "2020-04-27 00:00:00+00:00   197.224716     393    1.992651\n",
       "2020-07-26 00:00:00+00:00   309.643616     393    1.269201\n",
       "2020-10-24 00:00:00+00:00   412.457611     393    0.952825\n",
       "2021-01-22 00:00:00+00:00  1236.512207     393    0.317829\n",
       "2021-04-22 00:00:00+00:00  2403.535156     393    0.163509\n",
       "2021-07-21 00:00:00+00:00  1990.970825     393    0.197391\n",
       "2021-10-19 00:00:00+00:00  3877.650879     393    0.101350\n",
       "2022-01-17 00:00:00+00:00  3212.304932     393    0.122342\n",
       "2022-04-17 00:00:00+00:00  2993.403320     393    0.131289\n",
       "2022-07-16 00:00:00+00:00  1352.626465     393    0.290546\n",
       "2022-10-14 00:00:00+00:00  1297.422119     393    0.302908\n",
       "2023-01-12 00:00:00+00:00  1417.938477     393    0.277163\n",
       "2023-04-12 00:00:00+00:00  1920.682129     393    0.204615\n",
       "2023-07-11 00:00:00+00:00  1878.336060     393    0.209228\n",
       "2023-10-09 00:00:00+00:00  1579.806641     393    0.248765\n",
       "2024-01-07 00:00:00+00:00  2222.865967     393    0.176799"
      ]
     },
     "execution_count": 52,
     "metadata": {},
     "output_type": "execute_result"
    }
   ],
   "source": [
    "data = eth_data.iloc[::90].drop(['Open', 'Low', 'Volume', 'Dividends', 'Stock Splits', 'High'], axis=1)\n",
    "data['eth_bought'] = data['buy_in'] / data['Close']\n",
    "data"
   ]
  },
  {
   "cell_type": "code",
   "execution_count": 60,
   "id": "8db33393-3e14-4a75-bc0d-52e804a2a611",
   "metadata": {},
   "outputs": [],
   "source": [
    "total_eth_bought = data['eth_bought'].sum()\n",
    "usd_value = total_eth_bought * eth_data['Close'].iloc[-1]"
   ]
  },
  {
   "cell_type": "code",
   "execution_count": 62,
   "id": "df456c0d-db1c-4e0c-a580-f803366518f3",
   "metadata": {},
   "outputs": [
    {
     "data": {
      "text/plain": [
       "684.0222637876933"
      ]
     },
     "execution_count": 62,
     "metadata": {},
     "output_type": "execute_result"
    }
   ],
   "source": [
    "usd_value / 10_000 * 100"
   ]
  }
 ],
 "metadata": {
  "kernelspec": {
   "display_name": "Python 3 (ipykernel)",
   "language": "python",
   "name": "python3"
  },
  "language_info": {
   "codemirror_mode": {
    "name": "ipython",
    "version": 3
   },
   "file_extension": ".py",
   "mimetype": "text/x-python",
   "name": "python",
   "nbconvert_exporter": "python",
   "pygments_lexer": "ipython3",
   "version": "3.11.6"
  }
 },
 "nbformat": 4,
 "nbformat_minor": 5
}
