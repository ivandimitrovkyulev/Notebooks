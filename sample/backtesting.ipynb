{
 "cells": [
  {
   "cell_type": "code",
   "execution_count": 9,
   "id": "d14f6f92-ecf7-40f9-ac3d-4e138699617a",
   "metadata": {
    "scrolled": true
   },
   "outputs": [],
   "source": [
    "import pandas as pd\n",
    "import yfinance as yf\n",
    "from backtesting import Backtest\n",
    "from src.strategies import MomentumTimeSeries, SmaCross, MeanReversionLongOnly\n",
    "from src.utils import load_data"
   ]
  },
  {
   "cell_type": "code",
   "execution_count": 10,
   "id": "31de65b2-464a-43c3-8204-4fbbd83136fb",
   "metadata": {},
   "outputs": [
    {
     "name": "stderr",
     "output_type": "stream",
     "text": [
      "/Users/ivankyulev/Projects/Notebooks/.venv/lib/python3.11/site-packages/yfinance/utils.py:775: FutureWarning: The 'unit' keyword in TimedeltaIndex construction is deprecated and will be removed in a future version. Use pd.to_timedelta instead.\n",
      "  df.index += _pd.TimedeltaIndex(dst_error_hours, 'h')\n"
     ]
    }
   ],
   "source": [
    "ticker = \"GC=F\"\n",
    "period = \"10y\"\n",
    "stock = yf.Ticker(ticker.upper())\n",
    "data = stock.history(period=period)"
   ]
  },
  {
   "cell_type": "code",
   "execution_count": 11,
   "id": "9785943b-a4e9-4e40-ab79-b9aec0feab97",
   "metadata": {},
   "outputs": [
    {
     "data": {
      "text/plain": [
       "Start                     2014-03-12 00:00...\n",
       "End                       2024-03-12 00:00...\n",
       "Duration                   3653 days 00:00:00\n",
       "Exposure Time [%]                   80.254271\n",
       "Equity Final [$]                  8793.076896\n",
       "Equity Peak [$]                  11528.220617\n",
       "Return [%]                         -12.069231\n",
       "Buy & Hold Return [%]               57.994594\n",
       "Return (Ann.) [%]                   -1.279481\n",
       "Volatility (Ann.) [%]               12.027418\n",
       "Sharpe Ratio                              0.0\n",
       "Sortino Ratio                             0.0\n",
       "Calmar Ratio                              0.0\n",
       "Max. Drawdown [%]                  -36.036298\n",
       "Avg. Drawdown [%]                   -9.195742\n",
       "Max. Drawdown Duration     1484 days 00:00:00\n",
       "Avg. Drawdown Duration      324 days 00:00:00\n",
       "# Trades                                    9\n",
       "Win Rate [%]                        22.222222\n",
       "Best Trade [%]                      28.165598\n",
       "Worst Trade [%]                    -10.779684\n",
       "Avg. Trade [%]                        -1.2261\n",
       "Max. Trade Duration         769 days 00:00:00\n",
       "Avg. Trade Duration         326 days 00:00:00\n",
       "Profit Factor                        0.889346\n",
       "Expectancy [%]                      -0.565801\n",
       "SQN                                 -0.428178\n",
       "_strategy                            SmaCross\n",
       "_equity_curve                             ...\n",
       "_trades                      Size  EntryBa...\n",
       "dtype: object"
      ]
     },
     "execution_count": 11,
     "metadata": {},
     "output_type": "execute_result"
    }
   ],
   "source": [
    "bt_sma = Backtest(data, SmaCross, cash=10_000, commission=0.004, trade_on_close=False)\n",
    "stats = bt.run()\n",
    "stats"
   ]
  },
  {
   "cell_type": "code",
   "execution_count": null,
   "id": "2d1f3350-af1d-44bb-bf16-2c4720453e1c",
   "metadata": {},
   "outputs": [],
   "source": [
    "bt_sma.plot()"
   ]
  },
  {
   "cell_type": "code",
   "execution_count": 12,
   "id": "a53a4a42-c7a4-4899-a786-0302af2fff5a",
   "metadata": {},
   "outputs": [
    {
     "name": "stderr",
     "output_type": "stream",
     "text": [
      "/Users/ivankyulev/Projects/Notebooks/.venv/lib/python3.11/site-packages/backtesting/backtesting.py:1375: UserWarning: For multiprocessing support in `Backtest.optimize()` set multiprocessing start method to 'fork'.\n",
      "  warnings.warn(\"For multiprocessing support in `Backtest.optimize()` \"\n"
     ]
    },
    {
     "name": "stdout",
     "output_type": "stream",
     "text": [
      "CPU times: user 4.41 s, sys: 10.4 ms, total: 4.42 s\n",
      "Wall time: 4.42 s\n"
     ]
    },
    {
     "data": {
      "text/plain": [
       "Start                     2014-03-12 00:00...\n",
       "End                       2024-03-12 00:00...\n",
       "Duration                   3653 days 00:00:00\n",
       "Exposure Time [%]                   96.742153\n",
       "Equity Final [$]                 13683.955302\n",
       "Equity Peak [$]                  17614.002445\n",
       "Return [%]                          36.839553\n",
       "Buy & Hold Return [%]               57.782969\n",
       "Return (Ann.) [%]                    3.189949\n",
       "Volatility (Ann.) [%]                 13.6068\n",
       "Sharpe Ratio                         0.234438\n",
       "Sortino Ratio                        0.349673\n",
       "Calmar Ratio                         0.135209\n",
       "Max. Drawdown [%]                  -23.592796\n",
       "Avg. Drawdown [%]                    -3.77792\n",
       "Max. Drawdown Duration     1314 days 00:00:00\n",
       "Avg. Drawdown Duration       85 days 00:00:00\n",
       "# Trades                                   49\n",
       "Win Rate [%]                        40.816327\n",
       "Best Trade [%]                      20.835531\n",
       "Worst Trade [%]                     -6.501654\n",
       "Avg. Trade [%]                       0.685348\n",
       "Max. Trade Duration         266 days 00:00:00\n",
       "Avg. Trade Duration          73 days 00:00:00\n",
       "Profit Factor                        1.514297\n",
       "Expectancy [%]                       0.829345\n",
       "SQN                                  0.788589\n",
       "_strategy                 SmaCross(n1=25,n...\n",
       "_equity_curve                             ...\n",
       "_trades                       Size  EntryB...\n",
       "dtype: object"
      ]
     },
     "execution_count": 12,
     "metadata": {},
     "output_type": "execute_result"
    }
   ],
   "source": [
    "%%time\n",
    "stats = bt_sma.optimize(n1=range(5, 30, 5),\n",
    "                    n2=range(10, 70, 5),\n",
    "                    maximize='Equity Final [$]',\n",
    "                    constraint=lambda param: param.n1 < param.n2)\n",
    "stats"
   ]
  },
  {
   "cell_type": "code",
   "execution_count": null,
   "id": "3b12de7a-aa22-48c0-ac9b-b87481364ec7",
   "metadata": {},
   "outputs": [],
   "source": [
    "bt_sma.plot()"
   ]
  },
  {
   "cell_type": "code",
   "execution_count": null,
   "id": "3452f6ea-2b4e-442e-844b-836e145d0893",
   "metadata": {
    "scrolled": true
   },
   "outputs": [],
   "source": [
    "%%time\n",
    "bt_momentum = Backtest(data, MomentumTimeSeries, cash=10_000, commission=0, trade_on_close=False)\n",
    "stats = bt.optimize(\n",
    "    lookback=range(1,10,1),\n",
    "    maximize='Equity Final [$]',\n",
    "    # constraint=lambda param: param,\n",
    ")\n",
    "stats"
   ]
  },
  {
   "cell_type": "code",
   "execution_count": null,
   "id": "d6071125-28a6-47d0-8b84-8c7bb3bb2313",
   "metadata": {},
   "outputs": [],
   "source": [
    "bt_momentum.plot()"
   ]
  },
  {
   "cell_type": "code",
   "execution_count": null,
   "id": "c63ed1ab-68af-4062-8f21-27bb20e955ef",
   "metadata": {},
   "outputs": [],
   "source": [
    "bt_momentum = Backtest(data, MomentumTimeSeries, cash=10_000, commission=0, trade_on_close=True)\n",
    "stats = bt.run()\n",
    "stats"
   ]
  }
 ],
 "metadata": {
  "kernelspec": {
   "display_name": "Python 3 (ipykernel)",
   "language": "python",
   "name": "python3"
  },
  "language_info": {
   "codemirror_mode": {
    "name": "ipython",
    "version": 3
   },
   "file_extension": ".py",
   "mimetype": "text/x-python",
   "name": "python",
   "nbconvert_exporter": "python",
   "pygments_lexer": "ipython3",
   "version": "3.11.6"
  }
 },
 "nbformat": 4,
 "nbformat_minor": 5
}
