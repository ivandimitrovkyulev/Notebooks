{
 "cells": [
  {
   "cell_type": "code",
   "execution_count": null,
   "id": "8250b436-f8ee-4d1b-af35-3a3d4a82b74f",
   "metadata": {
    "scrolled": true
   },
   "outputs": [],
   "source": [
    "import yfinance as yf\n",
    "from src.utils import plot_bolinger_bands\n",
    "\n",
    "\n",
    "stock = yf.Ticker(\"BP.L\")\n",
    "history = stock.history(period=\"10y\")"
   ]
  }
 ],
 "metadata": {
  "kernelspec": {
   "display_name": "Python 3 (ipykernel)",
   "language": "python",
   "name": "python3"
  },
  "language_info": {
   "codemirror_mode": {
    "name": "ipython",
    "version": 3
   },
   "file_extension": ".py",
   "mimetype": "text/x-python",
   "name": "python",
   "nbconvert_exporter": "python",
   "pygments_lexer": "ipython3",
   "version": "3.11.6"
  }
 },
 "nbformat": 4,
 "nbformat_minor": 5
}
