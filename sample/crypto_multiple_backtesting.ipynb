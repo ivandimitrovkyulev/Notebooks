{
 "cells": [
  {
   "cell_type": "code",
   "execution_count": 3,
   "id": "13731865-5528-4035-b7c4-b3855dee8314",
   "metadata": {},
   "outputs": [],
   "source": [
    "import os\n",
    "import warnings\n",
    "import pandas as pd\n",
    "import matplotlib.pyplot as plt\n",
    "from backtesting import Backtest\n",
    "\n",
    "from src.strategies import VolumeSpike\n",
    "from src import plotting\n",
    "from src.crypto_data import BinanceDataManager\n",
    "\n",
    "warnings.filterwarnings('ignore')\n",
    "pd.set_option('display.float_format', '{:,.2f}'.format)\n",
    "pd.set_option('display.max_columns', None)\n",
    "pd.set_option('display.max_colwidth', None)"
   ]
  },
  {
   "cell_type": "code",
   "execution_count": 4,
   "id": "8dc4fc6f-217c-4990-bac2-dcab6f8f19ec",
   "metadata": {},
   "outputs": [],
   "source": [
    "# List of Coin pairs to Backtest. This list consists of 184 pairs with the following selection criteria:\n",
    "# Coins whose Market Cap rank is between 10 and 300, denominated in USDT and Margin Trading is allowed\n",
    "# and for which perp data could be found as of 15/10/2024\n",
    "universe = ['STORJUSDT', 'VANRYUSDT', 'OPUSDT', 'SUNUSDT', 'RENDERUSDT', 'PENDLEUSDT', 'CRVUSDT', 'ETHFIUSDT', 'BCHUSDT', 'BNXUSDT', 'HBARUSDT', 'IOTAUSDT', 'KSMUSDT', 'WUSDT', 'SANDUSDT', 'ARBUSDT', 'CKBUSDT', 'KAVAUSDT', 'HOTUSDT', 'BATUSDT', 'SUSHIUSDT', 'ORDIUSDT', 'BANANAUSDT', 'TUSDT', 'BBUSDT', 'CHZUSDT', '1000SATSUSDT', 'FXSUSDT', 'FTTUSDT', 'GUSDT', 'NEARUSDT', 'GRTUSDT', 'SUIUSDT', 'PEOPLEUSDT', 'ASTRUSDT', 'JTOUSDT', 'RUNEUSDT', 'TIAUSDT', 'ZILUSDT', 'STXUSDT', 'QNTUSDT', 'NOTUSDT', 'FLOWUSDT', 'KDAUSDT', 'MASKUSDT', 'FLUXUSDT', 'VETUSDT', 'MANTAUSDT', 'ATOMUSDT', 'CELOUSDT', 'TWTUSDT', 'FILUSDT', 'IDUSDT', 'ANKRUSDT', 'ENJUSDT', 'WIFUSDT', 'ACHUSDT', 'TAOUSDT', 'GLMRUSDT', 'GASUSDT', 'ONTUSDT', 'LPTUSDT', 'RAYUSDT', 'GMTUSDT', 'ETCUSDT', 'COMPUSDT', 'ICPUSDT', 'MANAUSDT', 'SKLUSDT', 'AXSUSDT', 'AAVEUSDT', 'CVXUSDT', 'ALTUSDT', 'YGGUSDT', 'IMXUSDT', 'JASMYUSDT', 'ONEUSDT', 'DYDXUSDT', 'SEIUSDT', 'SCUSDT', 'SUPERUSDT', 'XLMUSDT', 'CVCUSDT', 'NEOUSDT', 'BLURUSDT', 'SAGAUSDT', 'XAIUSDT', 'EOSUSDT', 'ENAUSDT', 'COTIUSDT', 'ALGOUSDT', 'GMXUSDT', 'KLAYUSDT', 'AEVOUSDT', 'AVAXUSDT', 'IOUSDT', 'MEMEUSDT', 'SFPUSDT', 'XTZUSDT', 'AXLUSDT', 'RVNUSDT', 'ICXUSDT', 'LDOUSDT', 'ENSUSDT', 'YFIUSDT', 'LRCUSDT', 'THETAUSDT', 'ILVUSDT', 'MINAUSDT', 'PIXELUSDT', 'STRKUSDT', 'FETUSDT', 'SSVUSDT', '1INCHUSDT', 'METISUSDT', 'POLUSDT', 'GLMUSDT', 'INJUSDT', 'TURBOUSDT', 'MKRUSDT', 'ZECUSDT', 'ARUSDT', 'CAKEUSDT', 'BICOUSDT', 'EDUUSDT', 'NEIROUSDT', 'QTUMUSDT', 'APTUSDT', 'FTMUSDT', 'CHRUSDT', 'OMUSDT', 'UNIUSDT', 'EGLDUSDT', 'DASHUSDT', 'HMSTRUSDT', 'RSRUSDT', 'WOOUSDT', 'JUPUSDT', 'SNXUSDT', 'CFXUSDT', 'ADAUSDT', 'IOTXUSDT', 'LINKUSDT', 'UMAUSDT', 'RPLUSDT', 'TRBUSDT', 'SXPUSDT', 'DOTUSDT', 'BOMEUSDT', 'APEUSDT', 'BANDUSDT', 'POLYXUSDT', 'ZROUSDT', 'ZRXUSDT', 'WLDUSDT', 'PYTHUSDT', 'ARKMUSDT', 'GALAUSDT', 'ROSEUSDT', 'DOGSUSDT', 'LTCUSDT', 'DYMUSDT', 'ZKUSDT']"
   ]
  },
  {
   "cell_type": "code",
   "execution_count": 5,
   "id": "b1859c3e-57b4-499a-90da-b379d427a2a3",
   "metadata": {
    "scrolled": true
   },
   "outputs": [],
   "source": [
    "dataframes = [\n",
    "    (pair, BinanceDataManager.data_to_df(f\"/Users/ivankyulev/Projects/Notebooks/data/futures/um/monthly/klines/{pair}/1h/\"))\n",
    "    for pair in universe\n",
    "]"
   ]
  },
  {
   "cell_type": "code",
   "execution_count": null,
   "id": "54faefbe-ef1c-45a4-a1b0-b2f97ea9ec0d",
   "metadata": {},
   "outputs": [],
   "source": [
    "all_results = []\n",
    "for symbol, df in dataframes:\n",
    "    # Define Strategy and its parameters\n",
    "    strategy = VolumeSpike\n",
    "    strategy.ma_window = 7\n",
    "    strategy.vol_multiplier = 4\n",
    "    # Run Backtest and save stats\n",
    "    backtest = Backtest(df, strategy, cash=10_000, commission=0.004, trade_on_close=True)\n",
    "    stats = backtest.run()\n",
    "    # Store stats for this symbol in a dictionary\n",
    "    stat_results = {i: stats[i] for i in stats.index if not i.startswith(\"_\")}\n",
    "    stat_results['Symbol'] = symbol\n",
    "    # Store in all symbol results\n",
    "    all_results.append(stat_results)"
   ]
  },
  {
   "cell_type": "code",
   "execution_count": null,
   "id": "be88ff7e-5554-4c13-920e-eb95dba915df",
   "metadata": {},
   "outputs": [],
   "source": [
    "df = pd.DataFrame(all_results)\n",
    "df.set_index(\"Symbol\", inplace=True)\n",
    "df"
   ]
  }
 ],
 "metadata": {
  "kernelspec": {
   "display_name": "Python 3 (ipykernel)",
   "language": "python",
   "name": "python3"
  },
  "language_info": {
   "codemirror_mode": {
    "name": "ipython",
    "version": 3
   },
   "file_extension": ".py",
   "mimetype": "text/x-python",
   "name": "python",
   "nbconvert_exporter": "python",
   "pygments_lexer": "ipython3",
   "version": "3.11.6"
  }
 },
 "nbformat": 4,
 "nbformat_minor": 5
}
