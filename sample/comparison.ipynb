{
 "cells": [
  {
   "cell_type": "code",
   "execution_count": 1,
   "id": "5344f40d-ed33-4310-ab89-da82d85ca7b2",
   "metadata": {},
   "outputs": [],
   "source": [
    "import warnings\n",
    "import pandas as pd\n",
    "import numpy as np\n",
    "\n",
    "import src.stlouisfed as fred\n",
    "from src import utils, plotting\n",
    "warnings.filterwarnings('ignore')\n",
    "pd.set_option('display.float_format', '{:,.2f}'.format)"
   ]
  },
  {
   "cell_type": "code",
   "execution_count": 6,
   "id": "d3baaf31-a7b9-42c3-ba6f-700b637a661b",
   "metadata": {},
   "outputs": [],
   "source": [
    "data_name = \"GDP\"\n",
    "data1 = fred.get_series_observation(data_name)\n",
    "data1.rename(columns={'lin': 'Close'}, inplace=True)\n",
    "data1.index = data1.index.tz_localize('UTC').tz_convert('America/New_York')\n",
    "data1 = data1[data1.index > '2012-01-01']"
   ]
  },
  {
   "cell_type": "code",
   "execution_count": 2,
   "id": "efde2f84-a6c9-45dd-a351-b7300b366391",
   "metadata": {},
   "outputs": [
    {
     "ename": "IndexError",
     "evalue": "single positional indexer is out-of-bounds",
     "output_type": "error",
     "traceback": [
      "\u001b[0;31m---------------------------------------------------------------------------\u001b[0m",
      "\u001b[0;31mIndexError\u001b[0m                                Traceback (most recent call last)",
      "Cell \u001b[0;32mIn[2], line 1\u001b[0m\n\u001b[0;32m----> 1\u001b[0m plot \u001b[38;5;241m=\u001b[39m \u001b[43mplotting\u001b[49m\u001b[38;5;241;43m.\u001b[39;49m\u001b[43mcompare_assets\u001b[49m\u001b[43m(\u001b[49m\n\u001b[1;32m      2\u001b[0m \u001b[43m    \u001b[49m\u001b[43m[\u001b[49m\n\u001b[1;32m      3\u001b[0m \u001b[43m        \u001b[49m\u001b[38;5;124;43m'\u001b[39;49m\u001b[38;5;124;43mGC=F\u001b[39;49m\u001b[38;5;124;43m'\u001b[39;49m\u001b[43m,\u001b[49m\u001b[43m     \u001b[49m\u001b[38;5;66;43;03m# Gold\u001b[39;49;00m\n\u001b[1;32m      4\u001b[0m \u001b[43m        \u001b[49m\u001b[38;5;124;43m'\u001b[39;49m\u001b[38;5;124;43m^GSPC\u001b[39;49m\u001b[38;5;124;43m'\u001b[39;49m\u001b[43m,\u001b[49m\u001b[43m    \u001b[49m\u001b[38;5;66;43;03m# S&P 500\u001b[39;49;00m\n\u001b[1;32m      5\u001b[0m \u001b[43m        \u001b[49m\u001b[38;5;124;43m'\u001b[39;49m\u001b[38;5;124;43mXLE\u001b[39;49m\u001b[38;5;124;43m'\u001b[39;49m\u001b[43m,\u001b[49m\u001b[43m      \u001b[49m\u001b[38;5;66;43;03m# Energy Select Sector SPDR ETF\u001b[39;49;00m\n\u001b[1;32m      6\u001b[0m \u001b[43m        \u001b[49m\u001b[38;5;124;43m'\u001b[39;49m\u001b[38;5;124;43mBTC-USD\u001b[39;49m\u001b[38;5;124;43m'\u001b[39;49m\u001b[43m,\u001b[49m\u001b[43m  \u001b[49m\u001b[38;5;66;43;03m# Bitcoin\u001b[39;49;00m\n\u001b[1;32m      7\u001b[0m \u001b[43m    \u001b[49m\u001b[43m]\u001b[49m\u001b[43m,\u001b[49m\n\u001b[1;32m      8\u001b[0m \u001b[43m    \u001b[49m\u001b[43mstart_date\u001b[49m\u001b[38;5;241;43m=\u001b[39;49m\u001b[43m[\u001b[49m\u001b[38;5;241;43m2014\u001b[39;49m\u001b[43m,\u001b[49m\u001b[43m \u001b[49m\u001b[38;5;241;43m1\u001b[39;49m\u001b[43m,\u001b[49m\u001b[43m \u001b[49m\u001b[38;5;241;43m1\u001b[39;49m\u001b[43m]\u001b[49m\u001b[43m,\u001b[49m\n\u001b[1;32m      9\u001b[0m \u001b[43m    \u001b[49m\u001b[43mend_date\u001b[49m\u001b[38;5;241;43m=\u001b[39;49m\u001b[43m[\u001b[49m\u001b[38;5;241;43m2024\u001b[39;49m\u001b[43m,\u001b[49m\u001b[43m \u001b[49m\u001b[38;5;241;43m6\u001b[39;49m\u001b[43m,\u001b[49m\u001b[43m \u001b[49m\u001b[38;5;241;43m1\u001b[39;49m\u001b[43m]\u001b[49m\u001b[43m,\u001b[49m\n\u001b[1;32m     10\u001b[0m \u001b[43m)\u001b[49m\n",
      "File \u001b[0;32m~/Projects/Notebooks/src/plotting.py:278\u001b[0m, in \u001b[0;36mcompare_assets\u001b[0;34m(tickers, start_date, end_date, log_scale)\u001b[0m\n\u001b[1;32m    275\u001b[0m     tickers_history[ticker] \u001b[38;5;241m=\u001b[39m yf\u001b[38;5;241m.\u001b[39mTicker(ticker\u001b[38;5;241m.\u001b[39mupper())\u001b[38;5;241m.\u001b[39mhistory(period\u001b[38;5;241m=\u001b[39m\u001b[38;5;124m'\u001b[39m\u001b[38;5;124mmax\u001b[39m\u001b[38;5;124m'\u001b[39m)\u001b[38;5;241m.\u001b[39mdropna()\n\u001b[1;32m    277\u001b[0m charts \u001b[38;5;241m=\u001b[39m [(ticker, history[start:end]) \u001b[38;5;28;01mfor\u001b[39;00m ticker, history \u001b[38;5;129;01min\u001b[39;00m tickers_history\u001b[38;5;241m.\u001b[39mitems()]\n\u001b[0;32m--> 278\u001b[0m \u001b[43mplot_n_chart_comparison\u001b[49m\u001b[43m(\u001b[49m\n\u001b[1;32m    279\u001b[0m \u001b[43m    \u001b[49m\u001b[43mcharts\u001b[49m\u001b[38;5;241;43m=\u001b[39;49m\u001b[43mcharts\u001b[49m\u001b[43m,\u001b[49m\n\u001b[1;32m    280\u001b[0m \u001b[43m    \u001b[49m\u001b[43mlog_scale\u001b[49m\u001b[38;5;241;43m=\u001b[39;49m\u001b[43mlog_scale\u001b[49m\u001b[43m,\u001b[49m\n\u001b[1;32m    281\u001b[0m \u001b[43m\u001b[49m\u001b[43m)\u001b[49m\n\u001b[1;32m    283\u001b[0m \u001b[38;5;28;01mreturn\u001b[39;00m plt\n",
      "File \u001b[0;32m~/Projects/Notebooks/src/plotting.py:226\u001b[0m, in \u001b[0;36mplot_n_chart_comparison\u001b[0;34m(charts, y_axis, log_scale, sma_n, figsize)\u001b[0m\n\u001b[1;32m    223\u001b[0m data_reindexed \u001b[38;5;241m=\u001b[39m data\u001b[38;5;241m.\u001b[39mloc[common_indexes]  \u001b[38;5;66;03m# Match all charts indexes to the shortest one\u001b[39;00m\n\u001b[1;32m    225\u001b[0m \u001b[38;5;66;03m# Normalize the data\u001b[39;00m\n\u001b[0;32m--> 226\u001b[0m data_normalized \u001b[38;5;241m=\u001b[39m data_reindexed[y_axis] \u001b[38;5;241m/\u001b[39m \u001b[43mdata_reindexed\u001b[49m\u001b[43m[\u001b[49m\u001b[43my_axis\u001b[49m\u001b[43m]\u001b[49m\u001b[38;5;241;43m.\u001b[39;49m\u001b[43miloc\u001b[49m\u001b[43m[\u001b[49m\u001b[38;5;241;43m0\u001b[39;49m\u001b[43m]\u001b[49m\n\u001b[1;32m    227\u001b[0m \u001b[38;5;28;01mif\u001b[39;00m log_scale:\n\u001b[1;32m    228\u001b[0m     data_normalized \u001b[38;5;241m=\u001b[39m np\u001b[38;5;241m.\u001b[39mlog(data_normalized)\n",
      "File \u001b[0;32m~/Projects/Notebooks/.venv/lib/python3.11/site-packages/pandas/core/indexing.py:1191\u001b[0m, in \u001b[0;36m_LocationIndexer.__getitem__\u001b[0;34m(self, key)\u001b[0m\n\u001b[1;32m   1189\u001b[0m maybe_callable \u001b[38;5;241m=\u001b[39m com\u001b[38;5;241m.\u001b[39mapply_if_callable(key, \u001b[38;5;28mself\u001b[39m\u001b[38;5;241m.\u001b[39mobj)\n\u001b[1;32m   1190\u001b[0m maybe_callable \u001b[38;5;241m=\u001b[39m \u001b[38;5;28mself\u001b[39m\u001b[38;5;241m.\u001b[39m_check_deprecated_callable_usage(key, maybe_callable)\n\u001b[0;32m-> 1191\u001b[0m \u001b[38;5;28;01mreturn\u001b[39;00m \u001b[38;5;28;43mself\u001b[39;49m\u001b[38;5;241;43m.\u001b[39;49m\u001b[43m_getitem_axis\u001b[49m\u001b[43m(\u001b[49m\u001b[43mmaybe_callable\u001b[49m\u001b[43m,\u001b[49m\u001b[43m \u001b[49m\u001b[43maxis\u001b[49m\u001b[38;5;241;43m=\u001b[39;49m\u001b[43maxis\u001b[49m\u001b[43m)\u001b[49m\n",
      "File \u001b[0;32m~/Projects/Notebooks/.venv/lib/python3.11/site-packages/pandas/core/indexing.py:1752\u001b[0m, in \u001b[0;36m_iLocIndexer._getitem_axis\u001b[0;34m(self, key, axis)\u001b[0m\n\u001b[1;32m   1749\u001b[0m     \u001b[38;5;28;01mraise\u001b[39;00m \u001b[38;5;167;01mTypeError\u001b[39;00m(\u001b[38;5;124m\"\u001b[39m\u001b[38;5;124mCannot index by location index with a non-integer key\u001b[39m\u001b[38;5;124m\"\u001b[39m)\n\u001b[1;32m   1751\u001b[0m \u001b[38;5;66;03m# validate the location\u001b[39;00m\n\u001b[0;32m-> 1752\u001b[0m \u001b[38;5;28;43mself\u001b[39;49m\u001b[38;5;241;43m.\u001b[39;49m\u001b[43m_validate_integer\u001b[49m\u001b[43m(\u001b[49m\u001b[43mkey\u001b[49m\u001b[43m,\u001b[49m\u001b[43m \u001b[49m\u001b[43maxis\u001b[49m\u001b[43m)\u001b[49m\n\u001b[1;32m   1754\u001b[0m \u001b[38;5;28;01mreturn\u001b[39;00m \u001b[38;5;28mself\u001b[39m\u001b[38;5;241m.\u001b[39mobj\u001b[38;5;241m.\u001b[39m_ixs(key, axis\u001b[38;5;241m=\u001b[39maxis)\n",
      "File \u001b[0;32m~/Projects/Notebooks/.venv/lib/python3.11/site-packages/pandas/core/indexing.py:1685\u001b[0m, in \u001b[0;36m_iLocIndexer._validate_integer\u001b[0;34m(self, key, axis)\u001b[0m\n\u001b[1;32m   1683\u001b[0m len_axis \u001b[38;5;241m=\u001b[39m \u001b[38;5;28mlen\u001b[39m(\u001b[38;5;28mself\u001b[39m\u001b[38;5;241m.\u001b[39mobj\u001b[38;5;241m.\u001b[39m_get_axis(axis))\n\u001b[1;32m   1684\u001b[0m \u001b[38;5;28;01mif\u001b[39;00m key \u001b[38;5;241m>\u001b[39m\u001b[38;5;241m=\u001b[39m len_axis \u001b[38;5;129;01mor\u001b[39;00m key \u001b[38;5;241m<\u001b[39m \u001b[38;5;241m-\u001b[39mlen_axis:\n\u001b[0;32m-> 1685\u001b[0m     \u001b[38;5;28;01mraise\u001b[39;00m \u001b[38;5;167;01mIndexError\u001b[39;00m(\u001b[38;5;124m\"\u001b[39m\u001b[38;5;124msingle positional indexer is out-of-bounds\u001b[39m\u001b[38;5;124m\"\u001b[39m)\n",
      "\u001b[0;31mIndexError\u001b[0m: single positional indexer is out-of-bounds"
     ]
    },
    {
     "data": {
      "text/plain": [
       "<Figure size 1600x1000 with 0 Axes>"
      ]
     },
     "metadata": {},
     "output_type": "display_data"
    }
   ],
   "source": [
    "plot = plotting.compare_assets(\n",
    "    [\n",
    "        'GC=F',     # Gold\n",
    "        '^GSPC',    # S&P 500\n",
    "        'XLE',      # Energy Select Sector SPDR ETF\n",
    "        'BTC-USD',  # Bitcoin\n",
    "    ],\n",
    "    start_date=[2014, 1, 1],\n",
    "    end_date=[2024, 6, 1],\n",
    ")"
   ]
  },
  {
   "cell_type": "code",
   "execution_count": 18,
   "id": "fef80c68-0a48-49bb-93c9-059583c84840",
   "metadata": {},
   "outputs": [],
   "source": [
    "import pandas as pd\n",
    "import yfinance as yf\n",
    "from functools import reduce\n",
    "\n",
    "# Define the start and end period for filtering\n",
    "start = '2022-01-01'\n",
    "end = '2023-01-01'\n",
    "\n",
    "eth = yf.Ticker('ETH-USD').history(period='max').dropna()[start:end]\n",
    "eth.index = eth.index.tz_convert('America/New_York').normalize()\n",
    "gold = yf.Ticker('GC=F').history(period='max').dropna()[start:end]\n",
    "gold.index = gold.index.tz_convert('America/New_York').normalize()"
   ]
  },
  {
   "cell_type": "code",
   "execution_count": 21,
   "id": "29e532be-9bbd-49a9-a8dd-9522d12cb8fd",
   "metadata": {},
   "outputs": [],
   "source": [
    "eth2 = eth.index.intersection(gold.index)"
   ]
  },
  {
   "cell_type": "code",
   "execution_count": 25,
   "id": "e84a387e-bfc2-4e5f-adce-2a2b1d1cf1ee",
   "metadata": {},
   "outputs": [
    {
     "data": {
      "text/plain": [
       "DatetimeIndex(['2022-01-03 00:00:00-05:00', '2022-01-04 00:00:00-05:00',\n",
       "               '2022-01-05 00:00:00-05:00', '2022-01-06 00:00:00-05:00',\n",
       "               '2022-01-07 00:00:00-05:00', '2022-01-10 00:00:00-05:00',\n",
       "               '2022-01-11 00:00:00-05:00', '2022-01-12 00:00:00-05:00',\n",
       "               '2022-01-13 00:00:00-05:00', '2022-01-14 00:00:00-05:00',\n",
       "               ...\n",
       "               '2022-12-16 00:00:00-05:00', '2022-12-19 00:00:00-05:00',\n",
       "               '2022-12-20 00:00:00-05:00', '2022-12-21 00:00:00-05:00',\n",
       "               '2022-12-22 00:00:00-05:00', '2022-12-23 00:00:00-05:00',\n",
       "               '2022-12-27 00:00:00-05:00', '2022-12-28 00:00:00-05:00',\n",
       "               '2022-12-29 00:00:00-05:00', '2022-12-30 00:00:00-05:00'],\n",
       "              dtype='datetime64[ns, America/New_York]', name='Date', length=251, freq=None)"
      ]
     },
     "execution_count": 25,
     "metadata": {},
     "output_type": "execute_result"
    }
   ],
   "source": [
    "common_dates = reduce(lambda x, y: x.intersection(y), [df.index for df in [eth, gold]])\n",
    "common_dates"
   ]
  }
 ],
 "metadata": {
  "kernelspec": {
   "display_name": "Python 3 (ipykernel)",
   "language": "python",
   "name": "python3"
  },
  "language_info": {
   "codemirror_mode": {
    "name": "ipython",
    "version": 3
   },
   "file_extension": ".py",
   "mimetype": "text/x-python",
   "name": "python",
   "nbconvert_exporter": "python",
   "pygments_lexer": "ipython3",
   "version": "3.11.6"
  }
 },
 "nbformat": 4,
 "nbformat_minor": 5
}
