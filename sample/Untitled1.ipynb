{
 "cells": [
  {
   "cell_type": "code",
   "execution_count": 5,
   "id": "13731865-5528-4035-b7c4-b3855dee8314",
   "metadata": {},
   "outputs": [],
   "source": [
    "import numpy as np\n",
    "import pandas as pd\n",
    "from datetime import datetime\n",
    "\n",
    "import vectorbt as vbt\n",
    "\n",
    "# Prepare data\n",
    "start = '2019-01-01 UTC'  # crypto is in UTC\n",
    "btc_price = vbt.YFData.download('BTC-USD', start=start).get('Close')"
   ]
  },
  {
   "cell_type": "code",
   "execution_count": 6,
   "id": "c474f86c-9158-4381-9a91-192ad67f243c",
   "metadata": {},
   "outputs": [
    {
     "data": {
      "text/plain": [
       "Date\n",
       "2019-01-01 00:00:00+00:00     3843.520020\n",
       "2019-01-02 00:00:00+00:00     3943.409424\n",
       "2019-01-03 00:00:00+00:00     3836.741211\n",
       "2019-01-04 00:00:00+00:00     3857.717529\n",
       "2019-01-05 00:00:00+00:00     3845.194580\n",
       "                                 ...     \n",
       "2024-06-03 00:00:00+00:00    68804.781250\n",
       "2024-06-04 00:00:00+00:00    70567.765625\n",
       "2024-06-05 00:00:00+00:00    71082.820312\n",
       "2024-06-06 00:00:00+00:00    70757.164062\n",
       "2024-06-07 00:00:00+00:00    69316.125000\n",
       "Freq: D, Name: Close, Length: 1985, dtype: float64"
      ]
     },
     "execution_count": 6,
     "metadata": {},
     "output_type": "execute_result"
    }
   ],
   "source": [
    "btc_price"
   ]
  },
  {
   "cell_type": "code",
   "execution_count": 10,
   "id": "f8fd8c90-b640-439f-80d9-e40f79c57284",
   "metadata": {},
   "outputs": [],
   "source": [
    "fast_ma = vbt.MA.run(btc_price, 10, short_name='fast')\n",
    "slow_ma = vbt.MA.run(btc_price, 20, short_name='slow')\n",
    "\n",
    "entries = fast_ma.ma_crossed_above(slow_ma)  # Booleans\n",
    "exits = fast_ma.ma_crossed_below(slow_ma)  # Booleans"
   ]
  },
  {
   "cell_type": "code",
   "execution_count": 13,
   "id": "8bddb29d-4e05-4dd7-b6bf-c069389e8b94",
   "metadata": {},
   "outputs": [
    {
     "ename": "AttributeError",
     "evalue": "'numpy.float64' object has no attribute 'vbt'",
     "output_type": "error",
     "traceback": [
      "\u001b[0;31m---------------------------------------------------------------------------\u001b[0m",
      "\u001b[0;31mAttributeError\u001b[0m                            Traceback (most recent call last)",
      "Cell \u001b[0;32mIn[13], line 2\u001b[0m\n\u001b[1;32m      1\u001b[0m pf \u001b[38;5;241m=\u001b[39m vbt\u001b[38;5;241m.\u001b[39mPortfolio\u001b[38;5;241m.\u001b[39mfrom_signals(btc_price, entries, exits)\n\u001b[0;32m----> 2\u001b[0m \u001b[43mpf\u001b[49m\u001b[38;5;241;43m.\u001b[39;49m\u001b[43mtotal_return\u001b[49m\u001b[43m(\u001b[49m\u001b[43m)\u001b[49m\u001b[38;5;241;43m.\u001b[39;49m\u001b[43mvbt\u001b[49m\u001b[38;5;241m.\u001b[39mbarplot()\n",
      "\u001b[0;31mAttributeError\u001b[0m: 'numpy.float64' object has no attribute 'vbt'"
     ]
    }
   ],
   "source": [
    "pf = vbt.Portfolio.from_signals(btc_price, entries, exits)\n",
    "pf.total_return().vbt.barplot()"
   ]
  }
 ],
 "metadata": {
  "kernelspec": {
   "display_name": "Python 3 (ipykernel)",
   "language": "python",
   "name": "python3"
  },
  "language_info": {
   "codemirror_mode": {
    "name": "ipython",
    "version": 3
   },
   "file_extension": ".py",
   "mimetype": "text/x-python",
   "name": "python",
   "nbconvert_exporter": "python",
   "pygments_lexer": "ipython3",
   "version": "3.11.6"
  }
 },
 "nbformat": 4,
 "nbformat_minor": 5
}
