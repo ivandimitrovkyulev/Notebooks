{
 "cells": [
  {
   "cell_type": "code",
   "execution_count": 1,
   "id": "13731865-5528-4035-b7c4-b3855dee8314",
   "metadata": {},
   "outputs": [],
   "source": [
    "import numpy as np\n",
    "import pandas as pd\n",
    "from datetime import datetime\n",
    "\n",
    "import vectorbt as vbt\n",
    "\n",
    "# Prepare data\n",
    "start = '2019-01-01 UTC'  # crypto is in UTC\n",
    "btc_price = vbt.YFData.download('BTC-USD', start=start).get('Close')"
   ]
  },
  {
   "cell_type": "code",
   "execution_count": 5,
   "id": "c474f86c-9158-4381-9a91-192ad67f243c",
   "metadata": {},
   "outputs": [
    {
     "data": {
      "application/vnd.jupyter.widget-view+json": {
       "model_id": "05a135b38aaa42fb9918c7a3a38fcf8a",
       "version_major": 2,
       "version_minor": 0
      },
      "text/plain": [
       "FigureWidget({\n",
       "    'data': [{'name': '0',\n",
       "              'showlegend': True,\n",
       "              'type': 'scatter',\n",
       "              'uid': '51c5fbbe-2ef9-440a-845e-305bdf8dc611',\n",
       "              'x': array([datetime.datetime(2019, 12, 31, 23, 0, tzinfo=datetime.timezone.utc),\n",
       "                          datetime.datetime(2020, 1, 1, 23, 0, tzinfo=datetime.timezone.utc),\n",
       "                          datetime.datetime(2020, 1, 2, 23, 0, tzinfo=datetime.timezone.utc), ...,\n",
       "                          datetime.datetime(2020, 12, 29, 23, 0, tzinfo=datetime.timezone.utc),\n",
       "                          datetime.datetime(2020, 12, 30, 23, 0, tzinfo=datetime.timezone.utc),\n",
       "                          datetime.datetime(2020, 12, 31, 23, 0, tzinfo=datetime.timezone.utc)],\n",
       "                         dtype=object),\n",
       "              'y': array([91.08203271, 96.0640727 , 89.05906335, ..., 43.84797869, 39.63192577,\n",
       "                          37.58598603])},\n",
       "             {'name': '1',\n",
       "              'showlegend': True,\n",
       "              'type': 'scatter',\n",
       "              'uid': 'c2479a1e-b8d6-474f-8767-4fab9085b10b',\n",
       "              'x': array([datetime.datetime(2019, 12, 31, 23, 0, tzinfo=datetime.timezone.utc),\n",
       "                          datetime.datetime(2020, 1, 1, 23, 0, tzinfo=datetime.timezone.utc),\n",
       "                          datetime.datetime(2020, 1, 2, 23, 0, tzinfo=datetime.timezone.utc), ...,\n",
       "                          datetime.datetime(2020, 12, 29, 23, 0, tzinfo=datetime.timezone.utc),\n",
       "                          datetime.datetime(2020, 12, 30, 23, 0, tzinfo=datetime.timezone.utc),\n",
       "                          datetime.datetime(2020, 12, 31, 23, 0, tzinfo=datetime.timezone.utc)],\n",
       "                         dtype=object),\n",
       "              'y': array([ 95.09718636,  90.02455021,  88.02103635, ..., 224.46430666,\n",
       "                          227.25177324, 205.57871112])},\n",
       "             {'name': '2',\n",
       "              'showlegend': True,\n",
       "              'type': 'scatter',\n",
       "              'uid': 'e87af240-d69c-42d4-9468-a4db6d61e3de',\n",
       "              'x': array([datetime.datetime(2019, 12, 31, 23, 0, tzinfo=datetime.timezone.utc),\n",
       "                          datetime.datetime(2020, 1, 1, 23, 0, tzinfo=datetime.timezone.utc),\n",
       "                          datetime.datetime(2020, 1, 2, 23, 0, tzinfo=datetime.timezone.utc), ...,\n",
       "                          datetime.datetime(2020, 12, 29, 23, 0, tzinfo=datetime.timezone.utc),\n",
       "                          datetime.datetime(2020, 12, 30, 23, 0, tzinfo=datetime.timezone.utc),\n",
       "                          datetime.datetime(2020, 12, 31, 23, 0, tzinfo=datetime.timezone.utc)],\n",
       "                         dtype=object),\n",
       "              'y': array([109.16548104, 103.95230654,  97.33989017, ...,  78.21093796,\n",
       "                           82.71960979,  71.22634132])},\n",
       "             {'name': '3',\n",
       "              'showlegend': True,\n",
       "              'type': 'scatter',\n",
       "              'uid': '3d2b38d7-26eb-4b0c-8204-c48d9add8d01',\n",
       "              'x': array([datetime.datetime(2019, 12, 31, 23, 0, tzinfo=datetime.timezone.utc),\n",
       "                          datetime.datetime(2020, 1, 1, 23, 0, tzinfo=datetime.timezone.utc),\n",
       "                          datetime.datetime(2020, 1, 2, 23, 0, tzinfo=datetime.timezone.utc), ...,\n",
       "                          datetime.datetime(2020, 12, 29, 23, 0, tzinfo=datetime.timezone.utc),\n",
       "                          datetime.datetime(2020, 12, 30, 23, 0, tzinfo=datetime.timezone.utc),\n",
       "                          datetime.datetime(2020, 12, 31, 23, 0, tzinfo=datetime.timezone.utc)],\n",
       "                         dtype=object),\n",
       "              'y': array([103.01879101, 107.02989704, 105.26926936, ...,  76.54670889,\n",
       "                           73.44364995,  71.71039416])},\n",
       "             {'name': '4',\n",
       "              'showlegend': True,\n",
       "              'type': 'scatter',\n",
       "              'uid': '1316fe34-ef3a-4f18-82b7-01ea12040bf6',\n",
       "              'x': array([datetime.datetime(2019, 12, 31, 23, 0, tzinfo=datetime.timezone.utc),\n",
       "                          datetime.datetime(2020, 1, 1, 23, 0, tzinfo=datetime.timezone.utc),\n",
       "                          datetime.datetime(2020, 1, 2, 23, 0, tzinfo=datetime.timezone.utc), ...,\n",
       "                          datetime.datetime(2020, 12, 29, 23, 0, tzinfo=datetime.timezone.utc),\n",
       "                          datetime.datetime(2020, 12, 30, 23, 0, tzinfo=datetime.timezone.utc),\n",
       "                          datetime.datetime(2020, 12, 31, 23, 0, tzinfo=datetime.timezone.utc)],\n",
       "                         dtype=object),\n",
       "              'y': array([ 92.1724584 ,  98.39065756, 100.34214894, ...,  17.13843965,\n",
       "                           17.74458511,  18.22248215])}],\n",
       "    'layout': {'height': 350,\n",
       "               'legend': {'orientation': 'h',\n",
       "                          'traceorder': 'normal',\n",
       "                          'x': 1,\n",
       "                          'xanchor': 'right',\n",
       "                          'y': 1.02,\n",
       "                          'yanchor': 'bottom'},\n",
       "               'margin': {'b': 30, 'l': 30, 'r': 30, 't': 30},\n",
       "               'showlegend': False,\n",
       "               'template': '...',\n",
       "               'width': 700}\n",
       "})"
      ]
     },
     "execution_count": 5,
     "metadata": {},
     "output_type": "execute_result"
    }
   ],
   "source": [
    "gbm_data = vbt.GBMData.download(\n",
    "    list(range(5)),\n",
    "    start='2020-01-01',\n",
    "    end='2021-01-01'\n",
    ")\n",
    "gbm_data.plot(showlegend=False)"
   ]
  }
 ],
 "metadata": {
  "kernelspec": {
   "display_name": "Python 3 (ipykernel)",
   "language": "python",
   "name": "python3"
  },
  "language_info": {
   "codemirror_mode": {
    "name": "ipython",
    "version": 3
   },
   "file_extension": ".py",
   "mimetype": "text/x-python",
   "name": "python",
   "nbconvert_exporter": "python",
   "pygments_lexer": "ipython3",
   "version": "3.11.6"
  }
 },
 "nbformat": 4,
 "nbformat_minor": 5
}
