{
 "cells": [
  {
   "cell_type": "code",
   "execution_count": 1,
   "id": "441067e7-6067-4767-951a-5834b550247c",
   "metadata": {},
   "outputs": [],
   "source": [
    "from __future__ import (\n",
    "    absolute_import,\n",
    "    division,\n",
    "    print_function,\n",
    "    unicode_literals,\n",
    ")\n",
    "\n",
    "import backtrader as bt\n",
    "import yfinance as yf\n",
    "\n",
    "from src.strategies.b_trader_strats import TestStrategy"
   ]
  },
  {
   "cell_type": "code",
   "execution_count": 2,
   "id": "bd41d117-5047-44b1-844d-2598c4d85332",
   "metadata": {},
   "outputs": [],
   "source": [
    "ticker = \"MSTR\"\n",
    "stock = yf.Ticker(ticker.upper())\n",
    "history = stock.history(period=\"max\")\n",
    "data = bt.feeds.PandasData(dataname=history)"
   ]
  },
  {
   "cell_type": "code",
   "execution_count": 3,
   "id": "2b9d3402-b6a4-4acd-a8d0-3c9f848c0811",
   "metadata": {},
   "outputs": [
    {
     "data": {
      "text/plain": [
       "<backtrader.feeds.pandafeed.PandasData at 0x10f9f51d0>"
      ]
     },
     "execution_count": 3,
     "metadata": {},
     "output_type": "execute_result"
    }
   ],
   "source": [
    "data"
   ]
  },
  {
   "cell_type": "code",
   "execution_count": 4,
   "id": "6d728827-bb26-4547-99ad-e6002612f1e1",
   "metadata": {},
   "outputs": [
    {
     "name": "stdout",
     "output_type": "stream",
     "text": [
      "2024-11-15, (MA Period 10) Ending Value 78.00\n",
      "2024-11-15, (MA Period 11) Ending Value 89.57\n",
      "2024-11-15, (MA Period 12) Ending Value 86.51\n",
      "2024-11-15, (MA Period 13) Ending Value 89.95\n",
      "2024-11-15, (MA Period 14) Ending Value 88.98\n",
      "2024-11-15, (MA Period 15) Ending Value 90.08\n",
      "2024-11-15, (MA Period 16) Ending Value 93.55\n",
      "2024-11-15, (MA Period 17) Ending Value 118.36\n",
      "2024-11-15, (MA Period 18) Ending Value 113.27\n",
      "2024-11-15, (MA Period 19) Ending Value 115.42\n",
      "2024-11-15, (MA Period 20) Ending Value 118.90\n",
      "2024-11-15, (MA Period 21) Ending Value 112.53\n",
      "2024-11-15, (MA Period 22) Ending Value 116.81\n",
      "2024-11-15, (MA Period 23) Ending Value 117.53\n",
      "2024-11-15, (MA Period 24) Ending Value 97.04\n",
      "2024-11-15, (MA Period 25) Ending Value 116.82\n",
      "2024-11-15, (MA Period 26) Ending Value 116.70\n",
      "2024-11-15, (MA Period 27) Ending Value 115.81\n",
      "2024-11-15, (MA Period 28) Ending Value 120.95\n",
      "2024-11-15, (MA Period 29) Ending Value 120.57\n",
      "2024-11-15, (MA Period 30) Ending Value 119.48\n"
     ]
    },
    {
     "data": {
      "text/plain": [
       "[[<backtrader.cerebro.OptReturn at 0x123b3f6d0>],\n",
       " [<backtrader.cerebro.OptReturn at 0x128ec9c10>],\n",
       " [<backtrader.cerebro.OptReturn at 0x124ecc050>],\n",
       " [<backtrader.cerebro.OptReturn at 0x125641c10>],\n",
       " [<backtrader.cerebro.OptReturn at 0x1290120d0>],\n",
       " [<backtrader.cerebro.OptReturn at 0x1294b3810>],\n",
       " [<backtrader.cerebro.OptReturn at 0x128f94050>],\n",
       " [<backtrader.cerebro.OptReturn at 0x128eeff10>],\n",
       " [<backtrader.cerebro.OptReturn at 0x1293cdd50>],\n",
       " [<backtrader.cerebro.OptReturn at 0x12512bdd0>],\n",
       " [<backtrader.cerebro.OptReturn at 0x129305e10>],\n",
       " [<backtrader.cerebro.OptReturn at 0x129437610>],\n",
       " [<backtrader.cerebro.OptReturn at 0x125694050>],\n",
       " [<backtrader.cerebro.OptReturn at 0x12567bdd0>],\n",
       " [<backtrader.cerebro.OptReturn at 0x12958ff10>],\n",
       " [<backtrader.cerebro.OptReturn at 0x1293508d0>],\n",
       " [<backtrader.cerebro.OptReturn at 0x125534990>],\n",
       " [<backtrader.cerebro.OptReturn at 0x125658550>],\n",
       " [<backtrader.cerebro.OptReturn at 0x1292608d0>],\n",
       " [<backtrader.cerebro.OptReturn at 0x1253a4050>],\n",
       " [<backtrader.cerebro.OptReturn at 0x125525f10>]]"
      ]
     },
     "execution_count": 4,
     "metadata": {},
     "output_type": "execute_result"
    }
   ],
   "source": [
    "# Create a cerebro entity\n",
    "cerebro = bt.Cerebro()\n",
    "\n",
    "# Add a strategy\n",
    "strats = cerebro.optstrategy(\n",
    "    TestStrategy,\n",
    "    maperiod=range(10, 31),\n",
    ")\n",
    "\n",
    "# Add the Data Feed to Cerebro\n",
    "cerebro.adddata(data)\n",
    "\n",
    "# Set our desired cash start\n",
    "cerebro.broker.setcash(1000.0)\n",
    "\n",
    "# Add a FixedSize sizer according to the stake\n",
    "cerebro.addsizer(bt.sizers.FixedSize, stake=10)\n",
    "\n",
    "# Set the commission\n",
    "cerebro.broker.setcommission(commission=0.04)\n",
    "\n",
    "# Run over everything\n",
    "cerebro.run(maxcpus=1)"
   ]
  }
 ],
 "metadata": {
  "kernelspec": {
   "display_name": "Python 3 (ipykernel)",
   "language": "python",
   "name": "python3"
  },
  "language_info": {
   "codemirror_mode": {
    "name": "ipython",
    "version": 3
   },
   "file_extension": ".py",
   "mimetype": "text/x-python",
   "name": "python",
   "nbconvert_exporter": "python",
   "pygments_lexer": "ipython3",
   "version": "3.11.6"
  }
 },
 "nbformat": 4,
 "nbformat_minor": 5
}
